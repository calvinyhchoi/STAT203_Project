{
 "cells": [
  {
   "cell_type": "markdown",
   "id": "ecab71e6-dee1-487e-9b00-0b4426fb3f21",
   "metadata": {},
   "source": [
    "# Project Proposal\n",
    "##### Group 28 Calvin Choi & Mikel Ibarra Gallardo"
   ]
  },
  {
   "cell_type": "code",
   "execution_count": 5,
   "id": "ccff5244-db45-48a3-894b-8d948aca0027",
   "metadata": {},
   "outputs": [],
   "source": [
    "# loading libraries\n",
    "library(readxl)\n",
    "library(ggplot2)                     \n",
    "library(GGally)\n",
    "library(cowplot)\n",
    "library(dplyr)\n",
    "library(gridExtra)\n",
    "library(repr)\n",
    "library(infer)\n",
    "library(repr)\n",
    "library(tidyverse)\n",
    "library(tidymodels)"
   ]
  },
  {
   "cell_type": "markdown",
   "id": "c4c3f3c3-6a28-4337-8034-9bc24fa0fc8b",
   "metadata": {},
   "source": [
    "## Cleaning Data"
   ]
  },
  {
   "cell_type": "code",
   "execution_count": 7,
   "id": "c06bad8f-c0da-4026-a48e-b140663f0bf4",
   "metadata": {},
   "outputs": [
    {
     "name": "stderr",
     "output_type": "stream",
     "text": [
      "\u001b[1m\u001b[22mNew names:\n",
      "\u001b[36m•\u001b[39m `` -> `...1`\n",
      "\u001b[1mRows: \u001b[22m\u001b[34m313\u001b[39m \u001b[1mColumns: \u001b[22m\u001b[34m22\u001b[39m\n",
      "\u001b[36m──\u001b[39m \u001b[1mColumn specification\u001b[22m \u001b[36m────────────────────────────────────────────────────────\u001b[39m\n",
      "\u001b[1mDelimiter:\u001b[22m \",\"\n",
      "\u001b[31mchr\u001b[39m (22): ...1, 1995, 1996, 1997, 1998, 1999, 2000, 2001, 2002, 2003, 2004, ...\n",
      "\n",
      "\u001b[36mℹ\u001b[39m Use `spec()` to retrieve the full column specification for this data.\n",
      "\u001b[36mℹ\u001b[39m Specify the column types or set `show_col_types = FALSE` to quiet this message.\n"
     ]
    },
    {
     "data": {
      "text/html": [
       "<table class=\"dataframe\">\n",
       "<caption>A tibble: 6 × 22</caption>\n",
       "<thead>\n",
       "\t<tr><th scope=col>...1</th><th scope=col>1995</th><th scope=col>1996</th><th scope=col>1997</th><th scope=col>1998</th><th scope=col>1999</th><th scope=col>2000</th><th scope=col>2001</th><th scope=col>2002</th><th scope=col>2003</th><th scope=col>⋯</th><th scope=col>2006</th><th scope=col>2007</th><th scope=col>2008</th><th scope=col>2009</th><th scope=col>2010</th><th scope=col>2011</th><th scope=col>2012</th><th scope=col>2013</th><th scope=col>2014</th><th scope=col>2015</th></tr>\n",
       "\t<tr><th scope=col>&lt;chr&gt;</th><th scope=col>&lt;chr&gt;</th><th scope=col>&lt;chr&gt;</th><th scope=col>&lt;chr&gt;</th><th scope=col>&lt;chr&gt;</th><th scope=col>&lt;chr&gt;</th><th scope=col>&lt;chr&gt;</th><th scope=col>&lt;chr&gt;</th><th scope=col>&lt;chr&gt;</th><th scope=col>&lt;chr&gt;</th><th scope=col>⋯</th><th scope=col>&lt;chr&gt;</th><th scope=col>&lt;chr&gt;</th><th scope=col>&lt;chr&gt;</th><th scope=col>&lt;chr&gt;</th><th scope=col>&lt;chr&gt;</th><th scope=col>&lt;chr&gt;</th><th scope=col>&lt;chr&gt;</th><th scope=col>&lt;chr&gt;</th><th scope=col>&lt;chr&gt;</th><th scope=col>&lt;chr&gt;</th></tr>\n",
       "</thead>\n",
       "<tbody>\n",
       "\t<tr><td>Small Narrowbodies              </td><td>$2,326,550</td><td>$2,566,989</td><td>$2,710,156</td><td>$2,679,390</td><td>$2,854,374</td><td>$3,312,501</td><td>$3,452,306</td><td>$2,762,638</td><td>$2,401,097</td><td>⋯</td><td>$3,023,429</td><td>$3,139,163</td><td>$3,721,438</td><td>$1,989,693</td><td>$2,188,492</td><td>$2,536,421</td><td>$3,544,397</td><td>$3,296,735</td><td>$3,200,531</td><td>$2,409,722</td></tr>\n",
       "\t<tr><td>Pilots (000)                    </td><td>$583,404  </td><td>$627,762  </td><td>$669,258  </td><td>$689,224  </td><td>$728,240  </td><td>$838,740  </td><td>$999,164  </td><td>$897,116  </td><td>$634,961  </td><td>⋯</td><td>$438,619  </td><td>$435,275  </td><td>$435,110  </td><td>$374,621  </td><td>$329,334  </td><td>$306,357  </td><td>$467,634  </td><td>$548,759  </td><td>$605,357  </td><td>$589,163  </td></tr>\n",
       "\t<tr><td>Salaries and Wages (000)        </td><td>$432,613  </td><td>$469,059  </td><td>$515,538  </td><td>$508,323  </td><td>$533,546  </td><td>$605,325  </td><td>$649,540  </td><td>$563,728  </td><td>$370,899  </td><td>⋯</td><td>$277,744  </td><td>$275,166  </td><td>$274,264  </td><td>$228,164  </td><td>$208,150  </td><td>$211,297  </td><td>$314,467  </td><td>$369,108  </td><td>$407,588  </td><td>$413,252  </td></tr>\n",
       "\t<tr><td>Pilot Training (000)            </td><td>$28,235   </td><td>$22,388   </td><td>$23,838   </td><td>$22,037   </td><td>$25,315   </td><td>$25,163   </td><td>$29,921   </td><td>$22,831   </td><td>$11,309   </td><td>⋯</td><td>$8,183    </td><td>$9,754    </td><td>$7,933    </td><td>$8,636    </td><td>$4,046    </td><td>$3,820    </td><td>$3,089    </td><td>$9,020    </td><td>$9,873    </td><td>$14,026   </td></tr>\n",
       "\t<tr><td>Benefits and Payroll Taxes (000)</td><td>$77,752   </td><td>$87,128   </td><td>$77,679   </td><td>$105,045  </td><td>$108,242  </td><td>$143,949  </td><td>$247,814  </td><td>$257,181  </td><td>$213,327  </td><td>⋯</td><td>$114,430  </td><td>$109,587  </td><td>$113,649  </td><td>$107,956  </td><td>$90,693   </td><td>$66,376   </td><td>$131,097  </td><td>$132,366  </td><td>$131,195  </td><td>$131,049  </td></tr>\n",
       "\t<tr><td>Per Diem/ Personnel (000)       </td><td>$44,804   </td><td>$49,187   </td><td>$52,203   </td><td>$53,819   </td><td>$61,137   </td><td>$64,303   </td><td>$71,889   </td><td>$53,376   </td><td>$39,426   </td><td>⋯</td><td>$38,262   </td><td>$40,768   </td><td>$39,264   </td><td>$29,865   </td><td>$26,444   </td><td>$24,865   </td><td>$18,981   </td><td>$38,264   </td><td>$56,702   </td><td>$30,836   </td></tr>\n",
       "</tbody>\n",
       "</table>\n"
      ],
      "text/latex": [
       "A tibble: 6 × 22\n",
       "\\begin{tabular}{lllllllllllllllllllll}\n",
       " ...1 & 1995 & 1996 & 1997 & 1998 & 1999 & 2000 & 2001 & 2002 & 2003 & ⋯ & 2006 & 2007 & 2008 & 2009 & 2010 & 2011 & 2012 & 2013 & 2014 & 2015\\\\\n",
       " <chr> & <chr> & <chr> & <chr> & <chr> & <chr> & <chr> & <chr> & <chr> & <chr> & ⋯ & <chr> & <chr> & <chr> & <chr> & <chr> & <chr> & <chr> & <chr> & <chr> & <chr>\\\\\n",
       "\\hline\n",
       "\t Small Narrowbodies               & \\$2,326,550 & \\$2,566,989 & \\$2,710,156 & \\$2,679,390 & \\$2,854,374 & \\$3,312,501 & \\$3,452,306 & \\$2,762,638 & \\$2,401,097 & ⋯ & \\$3,023,429 & \\$3,139,163 & \\$3,721,438 & \\$1,989,693 & \\$2,188,492 & \\$2,536,421 & \\$3,544,397 & \\$3,296,735 & \\$3,200,531 & \\$2,409,722\\\\\n",
       "\t Pilots (000)                     & \\$583,404   & \\$627,762   & \\$669,258   & \\$689,224   & \\$728,240   & \\$838,740   & \\$999,164   & \\$897,116   & \\$634,961   & ⋯ & \\$438,619   & \\$435,275   & \\$435,110   & \\$374,621   & \\$329,334   & \\$306,357   & \\$467,634   & \\$548,759   & \\$605,357   & \\$589,163  \\\\\n",
       "\t Salaries and Wages (000)         & \\$432,613   & \\$469,059   & \\$515,538   & \\$508,323   & \\$533,546   & \\$605,325   & \\$649,540   & \\$563,728   & \\$370,899   & ⋯ & \\$277,744   & \\$275,166   & \\$274,264   & \\$228,164   & \\$208,150   & \\$211,297   & \\$314,467   & \\$369,108   & \\$407,588   & \\$413,252  \\\\\n",
       "\t Pilot Training (000)             & \\$28,235    & \\$22,388    & \\$23,838    & \\$22,037    & \\$25,315    & \\$25,163    & \\$29,921    & \\$22,831    & \\$11,309    & ⋯ & \\$8,183     & \\$9,754     & \\$7,933     & \\$8,636     & \\$4,046     & \\$3,820     & \\$3,089     & \\$9,020     & \\$9,873     & \\$14,026   \\\\\n",
       "\t Benefits and Payroll Taxes (000) & \\$77,752    & \\$87,128    & \\$77,679    & \\$105,045   & \\$108,242   & \\$143,949   & \\$247,814   & \\$257,181   & \\$213,327   & ⋯ & \\$114,430   & \\$109,587   & \\$113,649   & \\$107,956   & \\$90,693    & \\$66,376    & \\$131,097   & \\$132,366   & \\$131,195   & \\$131,049  \\\\\n",
       "\t Per Diem/ Personnel (000)        & \\$44,804    & \\$49,187    & \\$52,203    & \\$53,819    & \\$61,137    & \\$64,303    & \\$71,889    & \\$53,376    & \\$39,426    & ⋯ & \\$38,262    & \\$40,768    & \\$39,264    & \\$29,865    & \\$26,444    & \\$24,865    & \\$18,981    & \\$38,264    & \\$56,702    & \\$30,836   \\\\\n",
       "\\end{tabular}\n"
      ],
      "text/markdown": [
       "\n",
       "A tibble: 6 × 22\n",
       "\n",
       "| ...1 &lt;chr&gt; | 1995 &lt;chr&gt; | 1996 &lt;chr&gt; | 1997 &lt;chr&gt; | 1998 &lt;chr&gt; | 1999 &lt;chr&gt; | 2000 &lt;chr&gt; | 2001 &lt;chr&gt; | 2002 &lt;chr&gt; | 2003 &lt;chr&gt; | ⋯ ⋯ | 2006 &lt;chr&gt; | 2007 &lt;chr&gt; | 2008 &lt;chr&gt; | 2009 &lt;chr&gt; | 2010 &lt;chr&gt; | 2011 &lt;chr&gt; | 2012 &lt;chr&gt; | 2013 &lt;chr&gt; | 2014 &lt;chr&gt; | 2015 &lt;chr&gt; |\n",
       "|---|---|---|---|---|---|---|---|---|---|---|---|---|---|---|---|---|---|---|---|---|\n",
       "| Small Narrowbodies               | $2,326,550 | $2,566,989 | $2,710,156 | $2,679,390 | $2,854,374 | $3,312,501 | $3,452,306 | $2,762,638 | $2,401,097 | ⋯ | $3,023,429 | $3,139,163 | $3,721,438 | $1,989,693 | $2,188,492 | $2,536,421 | $3,544,397 | $3,296,735 | $3,200,531 | $2,409,722 |\n",
       "| Pilots (000)                     | $583,404   | $627,762   | $669,258   | $689,224   | $728,240   | $838,740   | $999,164   | $897,116   | $634,961   | ⋯ | $438,619   | $435,275   | $435,110   | $374,621   | $329,334   | $306,357   | $467,634   | $548,759   | $605,357   | $589,163   |\n",
       "| Salaries and Wages (000)         | $432,613   | $469,059   | $515,538   | $508,323   | $533,546   | $605,325   | $649,540   | $563,728   | $370,899   | ⋯ | $277,744   | $275,166   | $274,264   | $228,164   | $208,150   | $211,297   | $314,467   | $369,108   | $407,588   | $413,252   |\n",
       "| Pilot Training (000)             | $28,235    | $22,388    | $23,838    | $22,037    | $25,315    | $25,163    | $29,921    | $22,831    | $11,309    | ⋯ | $8,183     | $9,754     | $7,933     | $8,636     | $4,046     | $3,820     | $3,089     | $9,020     | $9,873     | $14,026    |\n",
       "| Benefits and Payroll Taxes (000) | $77,752    | $87,128    | $77,679    | $105,045   | $108,242   | $143,949   | $247,814   | $257,181   | $213,327   | ⋯ | $114,430   | $109,587   | $113,649   | $107,956   | $90,693    | $66,376    | $131,097   | $132,366   | $131,195   | $131,049   |\n",
       "| Per Diem/ Personnel (000)        | $44,804    | $49,187    | $52,203    | $53,819    | $61,137    | $64,303    | $71,889    | $53,376    | $39,426    | ⋯ | $38,262    | $40,768    | $39,264    | $29,865    | $26,444    | $24,865    | $18,981    | $38,264    | $56,702    | $30,836    |\n",
       "\n"
      ],
      "text/plain": [
       "  ...1                             1995       1996       1997       1998      \n",
       "1 Small Narrowbodies               $2,326,550 $2,566,989 $2,710,156 $2,679,390\n",
       "2 Pilots (000)                     $583,404   $627,762   $669,258   $689,224  \n",
       "3 Salaries and Wages (000)         $432,613   $469,059   $515,538   $508,323  \n",
       "4 Pilot Training (000)             $28,235    $22,388    $23,838    $22,037   \n",
       "5 Benefits and Payroll Taxes (000) $77,752    $87,128    $77,679    $105,045  \n",
       "6 Per Diem/ Personnel (000)        $44,804    $49,187    $52,203    $53,819   \n",
       "  1999       2000       2001       2002       2003       ⋯ 2006      \n",
       "1 $2,854,374 $3,312,501 $3,452,306 $2,762,638 $2,401,097 ⋯ $3,023,429\n",
       "2 $728,240   $838,740   $999,164   $897,116   $634,961   ⋯ $438,619  \n",
       "3 $533,546   $605,325   $649,540   $563,728   $370,899   ⋯ $277,744  \n",
       "4 $25,315    $25,163    $29,921    $22,831    $11,309    ⋯ $8,183    \n",
       "5 $108,242   $143,949   $247,814   $257,181   $213,327   ⋯ $114,430  \n",
       "6 $61,137    $64,303    $71,889    $53,376    $39,426    ⋯ $38,262   \n",
       "  2007       2008       2009       2010       2011       2012       2013      \n",
       "1 $3,139,163 $3,721,438 $1,989,693 $2,188,492 $2,536,421 $3,544,397 $3,296,735\n",
       "2 $435,275   $435,110   $374,621   $329,334   $306,357   $467,634   $548,759  \n",
       "3 $275,166   $274,264   $228,164   $208,150   $211,297   $314,467   $369,108  \n",
       "4 $9,754     $7,933     $8,636     $4,046     $3,820     $3,089     $9,020    \n",
       "5 $109,587   $113,649   $107,956   $90,693    $66,376    $131,097   $132,366  \n",
       "6 $40,768    $39,264    $29,865    $26,444    $24,865    $18,981    $38,264   \n",
       "  2014       2015      \n",
       "1 $3,200,531 $2,409,722\n",
       "2 $605,357   $589,163  \n",
       "3 $407,588   $413,252  \n",
       "4 $9,873     $14,026   \n",
       "5 $131,195   $131,049  \n",
       "6 $56,702    $30,836   "
      ]
     },
     "metadata": {},
     "output_type": "display_data"
    }
   ],
   "source": [
    "AStat <- read_csv(\"data/UnitedAirlines_stat.csv\", col_names = TRUE) |> # read csv from (INSERT website link here)\n",
    "         na.omit()                                                     # removing NA values\n",
    "head(AStat)"
   ]
  },
  {
   "cell_type": "markdown",
   "id": "570e8ead-121b-4f48-a373-7c0ab42911dd",
   "metadata": {},
   "source": [
    "## Wrangling Data"
   ]
  },
  {
   "cell_type": "code",
   "execution_count": 30,
   "id": "875f3f78-acf5-4d1d-a6a7-3f7825b6a187",
   "metadata": {},
   "outputs": [
    {
     "ename": "ERROR",
     "evalue": "Error in UseMethod(\"select\"): no applicable method for 'select' applied to an object of class \"c('matrix', 'array', 'character')\"\n",
     "output_type": "error",
     "traceback": [
      "Error in UseMethod(\"select\"): no applicable method for 'select' applied to an object of class \"c('matrix', 'array', 'character')\"\nTraceback:\n",
      "1. select(t(AStat), c(\"...1\", \"Other (inc. Tax) (000))\"))"
     ]
    }
   ],
   "source": [
    "AStat <- AStat           |>\n",
    "         t()             |>         #transpose the dataset so years are observations\n",
    "         select()  #      |>         #\n",
    "AStat"
   ]
  },
  {
   "cell_type": "code",
   "execution_count": null,
   "id": "77dbcc3d-957f-4721-bf13-758625511035",
   "metadata": {},
   "outputs": [],
   "source": []
  }
 ],
 "metadata": {
  "kernelspec": {
   "display_name": "R",
   "language": "R",
   "name": "ir"
  },
  "language_info": {
   "codemirror_mode": "r",
   "file_extension": ".r",
   "mimetype": "text/x-r-source",
   "name": "R",
   "pygments_lexer": "r",
   "version": "4.1.3"
  }
 },
 "nbformat": 4,
 "nbformat_minor": 5
}
